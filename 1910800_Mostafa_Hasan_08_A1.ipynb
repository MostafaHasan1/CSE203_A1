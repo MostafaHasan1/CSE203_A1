{
  "nbformat": 4,
  "nbformat_minor": 0,
  "metadata": {
    "colab": {
      "name": "1910800_Mostafa Hasan_08_A1.ipynb",
      "provenance": [],
      "collapsed_sections": [],
      "authorship_tag": "ABX9TyOm11c3TgQWjLcDD5rTMIAU",
      "include_colab_link": true
    },
    "kernelspec": {
      "name": "python3",
      "display_name": "Python 3"
    },
    "language_info": {
      "name": "python"
    }
  },
  "cells": [
    {
      "cell_type": "markdown",
      "metadata": {
        "id": "view-in-github",
        "colab_type": "text"
      },
      "source": [
        "<a href=\"https://colab.research.google.com/github/TheDarkifY/CSE203_A1/blob/main/1910800_Mostafa_Hasan_08_A1.ipynb\" target=\"_parent\"><img src=\"https://colab.research.google.com/assets/colab-badge.svg\" alt=\"Open In Colab\"/></a>"
      ]
    },
    {
      "cell_type": "code",
      "execution_count": null,
      "metadata": {
        "id": "r0sOqtGlxTDH",
        "colab": {
          "base_uri": "https://localhost:8080/"
        },
        "outputId": "a545cdf8-e098-4154-dcdd-85b844f4a4eb"
      },
      "outputs": [
        {
          "output_type": "stream",
          "name": "stdout",
          "text": [
            "1. Insert employee\n",
            "2. Delete employee\n",
            "3. Print all employee\n",
            "4. Print the name of the highest paid employee\n",
            "5. Exit\n",
            "Select an option (1/2/3/4/5): \n",
            "1\n",
            "Insert the ID of the new employee: 450\n",
            "Insert the name of the new employee: arif\n",
            "Insert the salary of the new employee: 20000\n",
            "Select an option (1/2/3/4/5): \n",
            "5\n",
            "Thank you for visiting :)\n"
          ]
        }
      ],
      "source": [
        "def insert_emp():\n",
        "  temp_employee = {}\n",
        "  emp_ID = input(\"Insert the ID of the new employee: \")\n",
        "  value_1 = emp_ID\n",
        "  temp_employee[\"ID\"] = value_1\n",
        "  emp_Name = input(\"Insert the name of the new employee: \")\n",
        "  value_2 = emp_Name\n",
        "  temp_employee[\"Name\"] = value_2\n",
        "  emp_Salary = input(\"Insert the salary of the new employee: \")\n",
        "  value_3 = emp_Salary\n",
        "  temp_employee[\"Salary\"] = value_3\n",
        "\n",
        "def del_emp():\n",
        "  print(\"hi\")\n",
        "  \n",
        "def all_emp_list():\n",
        "  print(employee)\n",
        "\n",
        "'''insert_employee = print(\"1. Insert employee\")\n",
        "one_ = input()\n",
        "Delete employee = print(\"2. Delete employee\")\n",
        "two_ = input()\n",
        "print_all_employee = print(\"3. Print all employee\")\n",
        "three_ = input()\n",
        "P_the_Name_of_HPaid_Emp = print(\"4. Print the name of the highest paid employee\")\n",
        "four_ = input()\n",
        "exit_ = print(\"Exit\")\n",
        "five_ = input() '''\n",
        "employee = {}\n",
        "\n",
        "insert_employee = print(\"1. Insert employee\")\n",
        "Delete_employee = print(\"2. Delete employee\")\n",
        "print_all_employee = print(\"3. Print all employee\")\n",
        "P_the_Name_of_HPaid_Emp = print(\"4. Print the name of the highest paid employee\")\n",
        "exit_ = print(\"5. Exit\")\n",
        "i = 0\n",
        "while i != \"0\":\n",
        "  i = input(print(\"Select an option (1/2/3/4/5): \"))\n",
        "  if i == \"1\":\n",
        "    insert_emp()\n",
        "  if i == \"2\":\n",
        "    del_emp()\n",
        "  if i == \"3\":\n",
        "    all_emp_list()\n",
        "  if i == \"4\":\n",
        "    highest_paid_emp()\n",
        "  if i == \"5\":\n",
        "    print(\"Thank you for visiting :)\")\n",
        "    break\n",
        "    i = 0\n",
        "\n",
        "# creating functions\n",
        "\n",
        "\n"
      ]
    },
    {
      "cell_type": "code",
      "source": [
        "employee = {}\n",
        "\n",
        "def insert_emp():\n",
        "  temp_employee = {}\n",
        "  emp_ID = input(\"Insert the ID of the new employee: \")\n",
        "#  temp_employee[\"ID\"] = emp_ID\n",
        "  emp_Name = input(\"Insert the name of the new employee: \")\n",
        "  temp_employee[\"Name\"] = emp_Name\n",
        "  emp_Salary = input(\"Insert the salary of the new employee: \")\n",
        "  temp_employee[\"Salary\"] = emp_Salary\n",
        "  employee[emp_ID] = temp_employee\n",
        "\n",
        "def del_emp():\n",
        "  emp_id = (input(\"Enter id\"))\n",
        "  for i in list(employee):\n",
        "    if emp_id == i:\n",
        "      employee.pop(i)\n",
        "  print(employee)\n",
        "\n",
        "def all_emp_list():\n",
        "  print(employee)\n",
        "\n",
        "i = 0\n",
        "while i != \"0\":\n",
        "  insert_employee = print(\"1. Insert employee\")\n",
        "  Delete_employee = print(\"2. Delete employee\")\n",
        "  print_all_employee = print(\"3. Print all employee\")\n",
        "  P_the_Name_of_HPaid_Emp = print(\"4. Print the name of the highest paid employee\")\n",
        "  exit_ = print(\"5. Exit\")\n",
        "  i = input(print(\"Select an option (1/2/3/4/5): \"))\n",
        "  if i == \"1\":\n",
        "    insert_emp()\n",
        "  if i == \"2\":\n",
        "    del_emp()\n",
        "  if i == \"3\":\n",
        "    all_emp_list()\n",
        "  if i == \"4\":\n",
        "    print('x')\n",
        "  if i == \"5\":\n",
        "    print(\"Thank you for visiting :)\")\n",
        "    break\n",
        "    i = 0"
      ],
      "metadata": {
        "colab": {
          "base_uri": "https://localhost:8080/"
        },
        "id": "gwCG2XWk5cbz",
        "outputId": "a3814c9d-7129-40b8-d45f-7f2aabfb7893"
      },
      "execution_count": null,
      "outputs": [
        {
          "output_type": "stream",
          "name": "stdout",
          "text": [
            "1. Insert employee\n",
            "2. Delete employee\n",
            "3. Print all employee\n",
            "4. Print the name of the highest paid employee\n",
            "5. Exit\n",
            "Select an option (1/2/3/4/5): \n",
            "1\n",
            "Insert the ID of the new employee: 1\n",
            "Insert the name of the new employee: df\n",
            "Insert the salary of the new employee: 453\n",
            "1. Insert employee\n",
            "2. Delete employee\n",
            "3. Print all employee\n",
            "4. Print the name of the highest paid employee\n",
            "5. Exit\n",
            "Select an option (1/2/3/4/5): \n",
            "1\n",
            "Insert the ID of the new employee: 2\n",
            "Insert the name of the new employee: jh\n",
            "Insert the salary of the new employee: 675\n",
            "1. Insert employee\n",
            "2. Delete employee\n",
            "3. Print all employee\n",
            "4. Print the name of the highest paid employee\n",
            "5. Exit\n",
            "Select an option (1/2/3/4/5): \n",
            "3\n",
            "{'1': {'Name': 'df', 'Salary': '453'}, '2': {'Name': 'jh', 'Salary': '675'}}\n",
            "1. Insert employee\n",
            "2. Delete employee\n",
            "3. Print all employee\n",
            "4. Print the name of the highest paid employee\n",
            "5. Exit\n",
            "Select an option (1/2/3/4/5): \n",
            "2\n",
            "Enter id1\n",
            "{'2': {'Name': 'jh', 'Salary': '675'}}\n",
            "1. Insert employee\n",
            "2. Delete employee\n",
            "3. Print all employee\n",
            "4. Print the name of the highest paid employee\n",
            "5. Exit\n",
            "Select an option (1/2/3/4/5): \n",
            "3\n",
            "{'2': {'Name': 'jh', 'Salary': '675'}}\n",
            "1. Insert employee\n",
            "2. Delete employee\n",
            "3. Print all employee\n",
            "4. Print the name of the highest paid employee\n",
            "5. Exit\n",
            "Select an option (1/2/3/4/5): \n"
          ]
        }
      ]
    },
    {
      "cell_type": "code",
      "source": [
        "students = {101:\"Arko\", 106: \"Milkan\", 241: \"Rika\", 502: \"Zahid\"}\n",
        "def del_emp():\n",
        "  emp_id = int(input(\"Enter id\"))\n",
        "  for i in list(students):\n",
        "    if emp_id == i:\n",
        "      students.pop(i)\n",
        "  print(students)\n",
        "\n",
        "del_emp()\n"
      ],
      "metadata": {
        "colab": {
          "base_uri": "https://localhost:8080/"
        },
        "id": "-JtlUdJiFvEA",
        "outputId": "5d240760-0d84-4d59-aca8-880d4c37f948"
      },
      "execution_count": null,
      "outputs": [
        {
          "output_type": "stream",
          "name": "stdout",
          "text": [
            "Enter id101\n",
            "{106: 'Milkan', 241: 'Rika', 502: 'Zahid'}\n"
          ]
        }
      ]
    },
    {
      "cell_type": "code",
      "source": [
        "students = {101:{'hasan':'324'}, 106: \"Milkan\", 241: \"Rika\", 502: \"Zahid\"}\n",
        "print(list(students))"
      ],
      "metadata": {
        "colab": {
          "base_uri": "https://localhost:8080/"
        },
        "id": "nkPXui6gVVV_",
        "outputId": "55a89176-672d-48b0-86b5-8ea99485183f"
      },
      "execution_count": null,
      "outputs": [
        {
          "output_type": "stream",
          "name": "stdout",
          "text": [
            "[101, 106, 241, 502]\n"
          ]
        }
      ]
    },
    {
      "cell_type": "code",
      "source": [
        ""
      ],
      "metadata": {
        "id": "GEyJ8oLgVfxL"
      },
      "execution_count": null,
      "outputs": []
    }
  ]
}