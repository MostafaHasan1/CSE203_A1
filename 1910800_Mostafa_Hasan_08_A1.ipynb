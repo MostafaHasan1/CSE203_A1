{
  "nbformat": 4,
  "nbformat_minor": 0,
  "metadata": {
    "colab": {
      "name": "1910800_Mostafa Hasan_08_A1.ipynb",
      "provenance": [],
      "collapsed_sections": [],
      "authorship_tag": "ABX9TyOEL6wMjbQHursHvgdgC0ka",
      "include_colab_link": true
    },
    "kernelspec": {
      "name": "python3",
      "display_name": "Python 3"
    },
    "language_info": {
      "name": "python"
    }
  },
  "cells": [
    {
      "cell_type": "markdown",
      "metadata": {
        "id": "view-in-github",
        "colab_type": "text"
      },
      "source": [
        "<a href=\"https://colab.research.google.com/github/TheDarkifY/CSE203_A1/blob/main/1910800_Mostafa_Hasan_08_A1.ipynb\" target=\"_parent\"><img src=\"https://colab.research.google.com/assets/colab-badge.svg\" alt=\"Open In Colab\"/></a>"
      ]
    },
    {
      "cell_type": "code",
      "execution_count": null,
      "metadata": {
        "id": "r0sOqtGlxTDH"
      },
      "outputs": [],
      "source": [
        "'''insert_employee = print(\"1. Insert employee\")\n",
        "one_ = input()\n",
        "Delete employee = print(\"2. Delete employee\")\n",
        "two_ = input()\n",
        "print_all_employee = print(\"3. Print all employee\")\n",
        "three_ = input()\n",
        "P_the_Name_of_HPaid_Emp = print(\"4. Print the name of the highest paid employee\")\n",
        "four_ = input()\n",
        "exit_ = print(\"Exit\")\n",
        "five_ = input() '''\n",
        "i = 0\n",
        "while i != \"0\":\n",
        "  insert_employee = print(\"1. Insert employee\")\n",
        "  one_ = input()\n",
        "  Delete employee = print(\"2. Delete employee\")\n",
        "  two_ = input()\n",
        "  print_all_employee = print(\"3. Print all employee\")\n",
        "  three_ = input()\n",
        "  P_the_Name_of_HPaid_Emp = print(\"4. Print the name of the highest paid employee\")\n",
        "  four_ = input()\n",
        "  exit_ = print(\"Exit\")\n",
        "  five_ = input()\n"
      ]
    }
  ]
}