{
  "nbformat": 4,
  "nbformat_minor": 0,
  "metadata": {
    "colab": {
      "name": "1910800_Mostafa Hasan_08_A1.ipynb",
      "provenance": [],
      "collapsed_sections": [],
      "authorship_tag": "ABX9TyOWO+pUCwdRAigu4uQUc2MH",
      "include_colab_link": true
    },
    "kernelspec": {
      "name": "python3",
      "display_name": "Python 3"
    },
    "language_info": {
      "name": "python"
    }
  },
  "cells": [
    {
      "cell_type": "markdown",
      "metadata": {
        "id": "view-in-github",
        "colab_type": "text"
      },
      "source": [
        "<a href=\"https://colab.research.google.com/github/TheDarkifY/CSE203_A1/blob/main/1910800_Mostafa_Hasan_08_A1.ipynb\" target=\"_parent\"><img src=\"https://colab.research.google.com/assets/colab-badge.svg\" alt=\"Open In Colab\"/></a>"
      ]
    },
    {
      "cell_type": "code",
      "execution_count": 17,
      "metadata": {
        "colab": {
          "base_uri": "https://localhost:8080/"
        },
        "id": "r0sOqtGlxTDH",
        "outputId": "9d3400cc-bdf1-4483-9e9b-de31985e05ef"
      },
      "outputs": [
        {
          "output_type": "stream",
          "name": "stdout",
          "text": [
            "1. Insert employee\n",
            "2. Delete employee\n",
            "3. Print all employee\n",
            "4. Print the name of the highest paid employee\n",
            "5. Exit\n",
            "Select an option (1/2/3/4/5): \n",
            "1\n",
            "Insert the ID of the new employee: 54\n",
            "Insert the name of the new employee: hjh\n",
            "Insert the salary of the new employee: 5445\n",
            "Select an option (1/2/3/4/5): \n",
            "3\n",
            "ID ID Name 54\n",
            "ID Name Name hjh\n",
            "ID Salary Name 5445\n",
            "Select an option (1/2/3/4/5): \n",
            "5\n",
            "Thank you for visiting :)\n"
          ]
        }
      ],
      "source": [
        "def insert_emp():\n",
        "  emp_ID = input(\"Insert the ID of the new employee: \")\n",
        "  value_1 = emp_ID\n",
        "  employee[\"ID\"] = value_1\n",
        "  emp_Name = input(\"Insert the name of the new employee: \")\n",
        "  value_2 = emp_Name\n",
        "  employee[\"Name\"] = value_2\n",
        "  emp_Salary = input(\"Insert the salary of the new employee: \")\n",
        "  value_3 = emp_Salary\n",
        "  employee[\"Salary\"] = value_3\n",
        "\n",
        "def del_emp():\n",
        "  print(\"hi\")\n",
        "  \n",
        "def all_emp_list():\n",
        "  for x,y in employee.items():\n",
        "    print(\"ID\",x,\"Name\",y)\n",
        "\n",
        "'''insert_employee = print(\"1. Insert employee\")\n",
        "one_ = input()\n",
        "Delete employee = print(\"2. Delete employee\")\n",
        "two_ = input()\n",
        "print_all_employee = print(\"3. Print all employee\")\n",
        "three_ = input()\n",
        "P_the_Name_of_HPaid_Emp = print(\"4. Print the name of the highest paid employee\")\n",
        "four_ = input()\n",
        "exit_ = print(\"Exit\")\n",
        "five_ = input() '''\n",
        "employee = {}\n",
        "\n",
        "insert_employee = print(\"1. Insert employee\")\n",
        "Delete_employee = print(\"2. Delete employee\")\n",
        "print_all_employee = print(\"3. Print all employee\")\n",
        "P_the_Name_of_HPaid_Emp = print(\"4. Print the name of the highest paid employee\")\n",
        "exit_ = print(\"5. Exit\")\n",
        "i = 0\n",
        "while i != \"0\":\n",
        "  i = input(print(\"Select an option (1/2/3/4/5): \"))\n",
        "  if i == \"1\":\n",
        "    insert_emp()\n",
        "  if i == \"2\":\n",
        "    del_emp()\n",
        "  if i == \"3\":\n",
        "    all_emp_list()\n",
        "  if i == \"4\":\n",
        "    highest_paid_emp()\n",
        "  if i == \"5\":\n",
        "    print(\"Thank you for visiting :)\")\n",
        "    break\n",
        "    i = 0\n",
        "\n",
        "# creating functions\n",
        "\n",
        "\n"
      ]
    },
    {
      "cell_type": "code",
      "source": [
        "x = dict()\n",
        "key1 = input(\"enter key\")\n",
        "value1 = input(\"enter value\")\n",
        "x[key1] = value1\n",
        "\n",
        "key2 = input(\"enter key\")\n",
        "value2 = input(\"enter value\")\n",
        "x[key2] = value2\n",
        "\n",
        "key3 = input(\"enter key\")\n",
        "value3 = input(\"enter value\")\n",
        "x[key3] = value3\n",
        "x"
      ],
      "metadata": {
        "colab": {
          "base_uri": "https://localhost:8080/"
        },
        "id": "gwCG2XWk5cbz",
        "outputId": "a52ab7fb-6fa7-4731-f3dd-c680067151fc"
      },
      "execution_count": 20,
      "outputs": [
        {
          "name": "stdout",
          "output_type": "stream",
          "text": [
            "enter keyid\n",
            "enter value50\n",
            "enter keyname\n",
            "enter valuehasan\n",
            "enter keysalary\n",
            "enter value5000\n"
          ]
        },
        {
          "output_type": "execute_result",
          "data": {
            "text/plain": [
              "{'id': '50', 'name': 'hasan', 'salary': '5000'}"
            ]
          },
          "metadata": {},
          "execution_count": 20
        }
      ]
    },
    {
      "cell_type": "code",
      "source": [
        ""
      ],
      "metadata": {
        "id": "cj1K6piC5kpe"
      },
      "execution_count": null,
      "outputs": []
    }
  ]
}